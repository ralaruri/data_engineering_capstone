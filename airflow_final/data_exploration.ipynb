{
  "cells": [
    {
      "cell_type": "code",
      "source": [
        "import pandas as pd\n",
        "\n",
        "\n",
        "# Yelp Data Set: https://www.kaggle.com/yelp-dataset/yelp-dataset\n",
        "# Ufos Data Set: https://www.kaggle.com/camnugent/ufo-sightings-around-the-world"
      ],
      "outputs": [],
      "execution_count": 22,
      "metadata": {
        "collapsed": true,
        "jupyter": {
          "source_hidden": false,
          "outputs_hidden": false
        },
        "nteract": {
          "transient": {
            "deleting": false
          }
        },
        "execution": {
          "iopub.status.busy": "2020-08-09T18:32:23.604Z",
          "iopub.execute_input": "2020-08-09T18:32:23.611Z",
          "iopub.status.idle": "2020-08-09T18:32:23.621Z",
          "shell.execute_reply": "2020-08-09T18:32:23.630Z"
        }
      }
    },
    {
      "cell_type": "code",
      "source": [
        "business = pd.read_json(r'/Users/ramzi/Downloads/Final Project Udacity/Project_Folder/business.json', lines=True)"
      ],
      "outputs": [],
      "execution_count": 23,
      "metadata": {
        "collapsed": true,
        "jupyter": {
          "source_hidden": false,
          "outputs_hidden": false
        },
        "nteract": {
          "transient": {
            "deleting": false
          }
        },
        "execution": {
          "iopub.status.busy": "2020-08-09T18:32:23.944Z",
          "iopub.execute_input": "2020-08-09T18:32:23.951Z",
          "iopub.status.idle": "2020-08-09T18:32:42.778Z",
          "shell.execute_reply": "2020-08-09T18:32:42.807Z"
        }
      }
    },
    {
      "cell_type": "code",
      "source": [
        "checkin = pd.read_json(r'/Users/ramzi/Downloads/Final Project Udacity/Project_Folder/checkin.json', lines=True)"
      ],
      "outputs": [],
      "execution_count": 24,
      "metadata": {
        "collapsed": true,
        "jupyter": {
          "source_hidden": false,
          "outputs_hidden": false
        },
        "nteract": {
          "transient": {
            "deleting": false
          }
        },
        "execution": {
          "iopub.status.busy": "2020-08-09T18:32:42.789Z",
          "iopub.execute_input": "2020-08-09T18:32:42.797Z",
          "iopub.status.idle": "2020-08-09T18:32:49.402Z",
          "shell.execute_reply": "2020-08-09T18:32:49.426Z"
        }
      }
    },
    {
      "cell_type": "code",
      "source": [
        "review = pd.read_json(r'/Users/ramzi/Downloads/Final Project Udacity/Project_Folder/review.json', lines=True)"
      ],
      "outputs": [],
      "execution_count": 25,
      "metadata": {
        "collapsed": true,
        "jupyter": {
          "source_hidden": false,
          "outputs_hidden": false
        },
        "nteract": {
          "transient": {
            "deleting": false
          }
        },
        "execution": {
          "iopub.status.busy": "2020-08-09T18:32:49.411Z",
          "iopub.execute_input": "2020-08-09T18:32:49.419Z",
          "iopub.status.idle": "2020-08-09T18:37:20.249Z",
          "shell.execute_reply": "2020-08-09T18:37:20.294Z"
        }
      }
    },
    {
      "cell_type": "code",
      "source": [
        "tip = pd.read_json(r'/Users/ramzi/Downloads/Final Project Udacity/Project_Folder/tip.json', lines=True)"
      ],
      "outputs": [],
      "execution_count": 17,
      "metadata": {
        "collapsed": true,
        "jupyter": {
          "source_hidden": false,
          "outputs_hidden": false
        },
        "nteract": {
          "transient": {
            "deleting": false
          }
        },
        "execution": {
          "iopub.status.busy": "2020-08-08T19:26:01.457Z",
          "iopub.execute_input": "2020-08-08T19:26:01.465Z",
          "iopub.status.idle": "2020-08-08T19:26:08.890Z",
          "shell.execute_reply": "2020-08-08T19:26:08.929Z"
        }
      }
    },
    {
      "cell_type": "code",
      "source": [
        "review.dtypes()"
      ],
      "outputs": [
        {
          "output_type": "error",
          "ename": "TypeError",
          "evalue": "'Series' object is not callable",
          "traceback": [
            "\u001b[0;31m---------------------------------------------------------------------------\u001b[0m",
            "\u001b[0;31mTypeError\u001b[0m                                 Traceback (most recent call last)",
            "\u001b[0;32m<ipython-input-26-9fa3f7870dd2>\u001b[0m in \u001b[0;36m<module>\u001b[0;34m\u001b[0m\n\u001b[0;32m----> 1\u001b[0;31m \u001b[0mreview\u001b[0m\u001b[0;34m.\u001b[0m\u001b[0mdtypes\u001b[0m\u001b[0;34m(\u001b[0m\u001b[0;34m)\u001b[0m\u001b[0;34m\u001b[0m\u001b[0;34m\u001b[0m\u001b[0m\n\u001b[0m",
            "\u001b[0;31mTypeError\u001b[0m: 'Series' object is not callable"
          ]
        }
      ],
      "execution_count": 26,
      "metadata": {
        "collapsed": true,
        "jupyter": {
          "source_hidden": false,
          "outputs_hidden": false
        },
        "nteract": {
          "transient": {
            "deleting": false
          }
        },
        "execution": {
          "iopub.status.busy": "2020-08-09T18:37:20.260Z",
          "iopub.execute_input": "2020-08-09T18:37:20.265Z",
          "iopub.status.idle": "2020-08-09T18:37:20.288Z",
          "shell.execute_reply": "2020-08-09T18:37:20.298Z"
        }
      }
    },
    {
      "cell_type": "code",
      "source": [
        "user = pd.read_json(r'/Users/ramzi/Downloads/Final Project Udacity/Project_Folder/user.json', lines=True)\n",
        "#pd.set_option('display.max_columns', None)\n"
      ],
      "outputs": [],
      "execution_count": 5,
      "metadata": {
        "collapsed": true,
        "jupyter": {
          "source_hidden": false,
          "outputs_hidden": false
        },
        "nteract": {
          "transient": {
            "deleting": false
          }
        },
        "execution": {
          "iopub.status.busy": "2020-08-08T19:05:52.434Z",
          "iopub.execute_input": "2020-08-08T19:05:52.444Z",
          "iopub.status.idle": "2020-08-08T19:06:46.850Z",
          "shell.execute_reply": "2020-08-08T19:06:46.862Z"
        }
      }
    },
    {
      "cell_type": "code",
      "source": [
        "user"
      ],
      "outputs": [
        {
          "output_type": "execute_result",
          "execution_count": 18,
          "data": {
            "text/plain": "                        user_id      name  review_count        yelping_since  \\\n0        ntlvfPzc8eglqvk92iDIAw    Rafael           553  2007-07-06 03:27:11   \n1        FOBRPlBHa3WPHFB5qYDlVg  Michelle           564  2008-04-28 01:29:25   \n2        zZUnPeh2hEp0WydbAZEOOg    Martin            60  2008-08-28 23:40:05   \n3        QaELAmRcDc5TfJEylaaP8g      John           206  2008-09-20 00:08:14   \n4        xvu8G900tezTzbbfqmTKvA      Anne           485  2008-08-09 00:30:27   \n...                         ...       ...           ...                  ...   \n1968698  gDC6V3sfu9SixRic9hkEQQ     Larry             9  2014-04-27 16:17:05   \n1968699  VEAWhS_RF-cKSUflmbCn7Q     Frank            10  2011-10-06 23:38:14   \n1968700  toAMthOzk2VDBgpW7Hu3eA      Greg             1  2016-05-08 16:42:58   \n1968701  hNX_EqOMImKGUx4g1x532A        RJ             2  2019-06-22 21:39:22   \n1968702  9lsXyOI065n-T0pJ_EoA_w     Aaron             2  2018-08-17 21:10:18   \n\n         useful  funny  cool                                         elite  \\\n0           628    225   227                                                 \n1           790    316   400                 2008,2009,2010,2011,2012,2013   \n2           151    125   103                                          2010   \n3           233    160    84                                          2009   \n4          1265    400   512  2009,2010,2011,2012,2014,2015,2016,2017,2018   \n...         ...    ...   ...                                           ...   \n1968698       1      0     0                                                 \n1968699      21     12     4                                                 \n1968700       0      0     0                                                 \n1968701       0      0     0                                                 \n1968702       0      0     0                                                 \n\n                                                   friends  fans  \\\n0        oeMvJh94PiGQnx_6GlndPQ, wm1z1PaJKvHgSDRKfwhfDg...    14   \n1        ly7EnE8leJmyqyePVYFlug, pRlR63iDytsnnniPb3AOug...    27   \n2        Uwlk0txjQBPw_JhHsQnyeg, Ybxr1tSCkv3lYA0I1qmnPQ...     5   \n3        iog3Nyg1i4jeumiTVG_BSA, M92xWY2Vr9w0xoH8bPplfQ...     6   \n4        3W3ZMSthojCUirKEqAwGNw, eTIbuu23j9tOgmIa9POyLQ...    78   \n...                                                    ...   ...   \n1968698                                               None     0   \n1968699                                               None     0   \n1968700                                               None     0   \n1968701                                               None     0   \n1968702                                               None     0   \n\n         average_stars  compliment_hot  compliment_more  compliment_profile  \\\n0                 3.57               3                2                   1   \n1                 3.84              36                4                   5   \n2                 3.44               9                6                   0   \n3                 3.08               2                1                   0   \n4                 4.37               8                9                   2   \n...                ...             ...              ...                 ...   \n1968698           3.56               0                0                   0   \n1968699           2.30               0                0                   0   \n1968700           1.00               0                0                   0   \n1968701           1.00               0                0                   0   \n1968702           5.00               0                0                   0   \n\n         compliment_cute  compliment_list  compliment_note  compliment_plain  \\\n0                      0                1               11                15   \n1                      2                1               33                37   \n2                      1                0                3                 7   \n3                      0                0                7                14   \n4                      1                1               22                28   \n...                  ...              ...              ...               ...   \n1968698                0                0                0                 0   \n1968699                0                0                0                 0   \n1968700                0                0                0                 0   \n1968701                0                0                0                 0   \n1968702                0                0                0                 0   \n\n         compliment_cool  compliment_funny  compliment_writer  \\\n0                     22                22                 10   \n1                     63                63                 21   \n2                     17                17                  4   \n3                      7                 7                  2   \n4                     31                31                 19   \n...                  ...               ...                ...   \n1968698                0                 0                  0   \n1968699                0                 0                  0   \n1968700                0                 0                  0   \n1968701                0                 0                  0   \n1968702                0                 0                  0   \n\n         compliment_photos  \n0                        0  \n1                        5  \n2                        1  \n3                        0  \n4                       31  \n...                    ...  \n1968698                  0  \n1968699                  0  \n1968700                  0  \n1968701                  0  \n1968702                  0  \n\n[1968703 rows x 22 columns]",
            "text/html": "<div>\n<style scoped>\n    .dataframe tbody tr th:only-of-type {\n        vertical-align: middle;\n    }\n\n    .dataframe tbody tr th {\n        vertical-align: top;\n    }\n\n    .dataframe thead th {\n        text-align: right;\n    }\n</style>\n<table border=\"1\" class=\"dataframe\">\n  <thead>\n    <tr style=\"text-align: right;\">\n      <th></th>\n      <th>user_id</th>\n      <th>name</th>\n      <th>review_count</th>\n      <th>yelping_since</th>\n      <th>useful</th>\n      <th>funny</th>\n      <th>cool</th>\n      <th>elite</th>\n      <th>friends</th>\n      <th>fans</th>\n      <th>average_stars</th>\n      <th>compliment_hot</th>\n      <th>compliment_more</th>\n      <th>compliment_profile</th>\n      <th>compliment_cute</th>\n      <th>compliment_list</th>\n      <th>compliment_note</th>\n      <th>compliment_plain</th>\n      <th>compliment_cool</th>\n      <th>compliment_funny</th>\n      <th>compliment_writer</th>\n      <th>compliment_photos</th>\n    </tr>\n  </thead>\n  <tbody>\n    <tr>\n      <th>0</th>\n      <td>ntlvfPzc8eglqvk92iDIAw</td>\n      <td>Rafael</td>\n      <td>553</td>\n      <td>2007-07-06 03:27:11</td>\n      <td>628</td>\n      <td>225</td>\n      <td>227</td>\n      <td></td>\n      <td>oeMvJh94PiGQnx_6GlndPQ, wm1z1PaJKvHgSDRKfwhfDg...</td>\n      <td>14</td>\n      <td>3.57</td>\n      <td>3</td>\n      <td>2</td>\n      <td>1</td>\n      <td>0</td>\n      <td>1</td>\n      <td>11</td>\n      <td>15</td>\n      <td>22</td>\n      <td>22</td>\n      <td>10</td>\n      <td>0</td>\n    </tr>\n    <tr>\n      <th>1</th>\n      <td>FOBRPlBHa3WPHFB5qYDlVg</td>\n      <td>Michelle</td>\n      <td>564</td>\n      <td>2008-04-28 01:29:25</td>\n      <td>790</td>\n      <td>316</td>\n      <td>400</td>\n      <td>2008,2009,2010,2011,2012,2013</td>\n      <td>ly7EnE8leJmyqyePVYFlug, pRlR63iDytsnnniPb3AOug...</td>\n      <td>27</td>\n      <td>3.84</td>\n      <td>36</td>\n      <td>4</td>\n      <td>5</td>\n      <td>2</td>\n      <td>1</td>\n      <td>33</td>\n      <td>37</td>\n      <td>63</td>\n      <td>63</td>\n      <td>21</td>\n      <td>5</td>\n    </tr>\n    <tr>\n      <th>2</th>\n      <td>zZUnPeh2hEp0WydbAZEOOg</td>\n      <td>Martin</td>\n      <td>60</td>\n      <td>2008-08-28 23:40:05</td>\n      <td>151</td>\n      <td>125</td>\n      <td>103</td>\n      <td>2010</td>\n      <td>Uwlk0txjQBPw_JhHsQnyeg, Ybxr1tSCkv3lYA0I1qmnPQ...</td>\n      <td>5</td>\n      <td>3.44</td>\n      <td>9</td>\n      <td>6</td>\n      <td>0</td>\n      <td>1</td>\n      <td>0</td>\n      <td>3</td>\n      <td>7</td>\n      <td>17</td>\n      <td>17</td>\n      <td>4</td>\n      <td>1</td>\n    </tr>\n    <tr>\n      <th>3</th>\n      <td>QaELAmRcDc5TfJEylaaP8g</td>\n      <td>John</td>\n      <td>206</td>\n      <td>2008-09-20 00:08:14</td>\n      <td>233</td>\n      <td>160</td>\n      <td>84</td>\n      <td>2009</td>\n      <td>iog3Nyg1i4jeumiTVG_BSA, M92xWY2Vr9w0xoH8bPplfQ...</td>\n      <td>6</td>\n      <td>3.08</td>\n      <td>2</td>\n      <td>1</td>\n      <td>0</td>\n      <td>0</td>\n      <td>0</td>\n      <td>7</td>\n      <td>14</td>\n      <td>7</td>\n      <td>7</td>\n      <td>2</td>\n      <td>0</td>\n    </tr>\n    <tr>\n      <th>4</th>\n      <td>xvu8G900tezTzbbfqmTKvA</td>\n      <td>Anne</td>\n      <td>485</td>\n      <td>2008-08-09 00:30:27</td>\n      <td>1265</td>\n      <td>400</td>\n      <td>512</td>\n      <td>2009,2010,2011,2012,2014,2015,2016,2017,2018</td>\n      <td>3W3ZMSthojCUirKEqAwGNw, eTIbuu23j9tOgmIa9POyLQ...</td>\n      <td>78</td>\n      <td>4.37</td>\n      <td>8</td>\n      <td>9</td>\n      <td>2</td>\n      <td>1</td>\n      <td>1</td>\n      <td>22</td>\n      <td>28</td>\n      <td>31</td>\n      <td>31</td>\n      <td>19</td>\n      <td>31</td>\n    </tr>\n    <tr>\n      <th>...</th>\n      <td>...</td>\n      <td>...</td>\n      <td>...</td>\n      <td>...</td>\n      <td>...</td>\n      <td>...</td>\n      <td>...</td>\n      <td>...</td>\n      <td>...</td>\n      <td>...</td>\n      <td>...</td>\n      <td>...</td>\n      <td>...</td>\n      <td>...</td>\n      <td>...</td>\n      <td>...</td>\n      <td>...</td>\n      <td>...</td>\n      <td>...</td>\n      <td>...</td>\n      <td>...</td>\n      <td>...</td>\n    </tr>\n    <tr>\n      <th>1968698</th>\n      <td>gDC6V3sfu9SixRic9hkEQQ</td>\n      <td>Larry</td>\n      <td>9</td>\n      <td>2014-04-27 16:17:05</td>\n      <td>1</td>\n      <td>0</td>\n      <td>0</td>\n      <td></td>\n      <td>None</td>\n      <td>0</td>\n      <td>3.56</td>\n      <td>0</td>\n      <td>0</td>\n      <td>0</td>\n      <td>0</td>\n      <td>0</td>\n      <td>0</td>\n      <td>0</td>\n      <td>0</td>\n      <td>0</td>\n      <td>0</td>\n      <td>0</td>\n    </tr>\n    <tr>\n      <th>1968699</th>\n      <td>VEAWhS_RF-cKSUflmbCn7Q</td>\n      <td>Frank</td>\n      <td>10</td>\n      <td>2011-10-06 23:38:14</td>\n      <td>21</td>\n      <td>12</td>\n      <td>4</td>\n      <td></td>\n      <td>None</td>\n      <td>0</td>\n      <td>2.30</td>\n      <td>0</td>\n      <td>0</td>\n      <td>0</td>\n      <td>0</td>\n      <td>0</td>\n      <td>0</td>\n      <td>0</td>\n      <td>0</td>\n      <td>0</td>\n      <td>0</td>\n      <td>0</td>\n    </tr>\n    <tr>\n      <th>1968700</th>\n      <td>toAMthOzk2VDBgpW7Hu3eA</td>\n      <td>Greg</td>\n      <td>1</td>\n      <td>2016-05-08 16:42:58</td>\n      <td>0</td>\n      <td>0</td>\n      <td>0</td>\n      <td></td>\n      <td>None</td>\n      <td>0</td>\n      <td>1.00</td>\n      <td>0</td>\n      <td>0</td>\n      <td>0</td>\n      <td>0</td>\n      <td>0</td>\n      <td>0</td>\n      <td>0</td>\n      <td>0</td>\n      <td>0</td>\n      <td>0</td>\n      <td>0</td>\n    </tr>\n    <tr>\n      <th>1968701</th>\n      <td>hNX_EqOMImKGUx4g1x532A</td>\n      <td>RJ</td>\n      <td>2</td>\n      <td>2019-06-22 21:39:22</td>\n      <td>0</td>\n      <td>0</td>\n      <td>0</td>\n      <td></td>\n      <td>None</td>\n      <td>0</td>\n      <td>1.00</td>\n      <td>0</td>\n      <td>0</td>\n      <td>0</td>\n      <td>0</td>\n      <td>0</td>\n      <td>0</td>\n      <td>0</td>\n      <td>0</td>\n      <td>0</td>\n      <td>0</td>\n      <td>0</td>\n    </tr>\n    <tr>\n      <th>1968702</th>\n      <td>9lsXyOI065n-T0pJ_EoA_w</td>\n      <td>Aaron</td>\n      <td>2</td>\n      <td>2018-08-17 21:10:18</td>\n      <td>0</td>\n      <td>0</td>\n      <td>0</td>\n      <td></td>\n      <td>None</td>\n      <td>0</td>\n      <td>5.00</td>\n      <td>0</td>\n      <td>0</td>\n      <td>0</td>\n      <td>0</td>\n      <td>0</td>\n      <td>0</td>\n      <td>0</td>\n      <td>0</td>\n      <td>0</td>\n      <td>0</td>\n      <td>0</td>\n    </tr>\n  </tbody>\n</table>\n<p>1968703 rows × 22 columns</p>\n</div>"
          },
          "metadata": {}
        }
      ],
      "execution_count": 18,
      "metadata": {
        "collapsed": true,
        "jupyter": {
          "source_hidden": false,
          "outputs_hidden": false
        },
        "nteract": {
          "transient": {
            "deleting": false
          }
        },
        "execution": {
          "iopub.status.busy": "2020-08-08T19:26:08.900Z",
          "iopub.execute_input": "2020-08-08T19:26:08.911Z",
          "iopub.status.idle": "2020-08-08T19:26:09.024Z",
          "shell.execute_reply": "2020-08-08T19:26:09.079Z"
        }
      }
    },
    {
      "cell_type": "code",
      "source": [
        "ufos = pd.read_csv('/Users/ramzi/Documents/Project_Folder/ufos.csv')"
      ],
      "outputs": [
        {
          "output_type": "error",
          "ename": "FileNotFoundError",
          "evalue": "[Errno 2] File /Users/ramzi/Documents/Project_Folder/ufos.csv does not exist: '/Users/ramzi/Documents/Project_Folder/ufos.csv'",
          "traceback": [
            "\u001b[0;31m---------------------------------------------------------------------------\u001b[0m",
            "\u001b[0;31mFileNotFoundError\u001b[0m                         Traceback (most recent call last)",
            "\u001b[0;32m<ipython-input-7-7e4ed77b98f8>\u001b[0m in \u001b[0;36m<module>\u001b[0;34m\u001b[0m\n\u001b[0;32m----> 1\u001b[0;31m \u001b[0mufos\u001b[0m \u001b[0;34m=\u001b[0m \u001b[0mpd\u001b[0m\u001b[0;34m.\u001b[0m\u001b[0mread_csv\u001b[0m\u001b[0;34m(\u001b[0m\u001b[0;34m'/Users/ramzi/Documents/Project_Folder/ufos.csv'\u001b[0m\u001b[0;34m)\u001b[0m\u001b[0;34m\u001b[0m\u001b[0;34m\u001b[0m\u001b[0m\n\u001b[0m",
            "\u001b[0;32m/opt/anaconda3/lib/python3.7/site-packages/pandas/io/parsers.py\u001b[0m in \u001b[0;36mparser_f\u001b[0;34m(filepath_or_buffer, sep, delimiter, header, names, index_col, usecols, squeeze, prefix, mangle_dupe_cols, dtype, engine, converters, true_values, false_values, skipinitialspace, skiprows, skipfooter, nrows, na_values, keep_default_na, na_filter, verbose, skip_blank_lines, parse_dates, infer_datetime_format, keep_date_col, date_parser, dayfirst, cache_dates, iterator, chunksize, compression, thousands, decimal, lineterminator, quotechar, quoting, doublequote, escapechar, comment, encoding, dialect, error_bad_lines, warn_bad_lines, delim_whitespace, low_memory, memory_map, float_precision)\u001b[0m\n\u001b[1;32m    674\u001b[0m         )\n\u001b[1;32m    675\u001b[0m \u001b[0;34m\u001b[0m\u001b[0m\n\u001b[0;32m--> 676\u001b[0;31m         \u001b[0;32mreturn\u001b[0m \u001b[0m_read\u001b[0m\u001b[0;34m(\u001b[0m\u001b[0mfilepath_or_buffer\u001b[0m\u001b[0;34m,\u001b[0m \u001b[0mkwds\u001b[0m\u001b[0;34m)\u001b[0m\u001b[0;34m\u001b[0m\u001b[0;34m\u001b[0m\u001b[0m\n\u001b[0m\u001b[1;32m    677\u001b[0m \u001b[0;34m\u001b[0m\u001b[0m\n\u001b[1;32m    678\u001b[0m     \u001b[0mparser_f\u001b[0m\u001b[0;34m.\u001b[0m\u001b[0m__name__\u001b[0m \u001b[0;34m=\u001b[0m \u001b[0mname\u001b[0m\u001b[0;34m\u001b[0m\u001b[0;34m\u001b[0m\u001b[0m\n",
            "\u001b[0;32m/opt/anaconda3/lib/python3.7/site-packages/pandas/io/parsers.py\u001b[0m in \u001b[0;36m_read\u001b[0;34m(filepath_or_buffer, kwds)\u001b[0m\n\u001b[1;32m    446\u001b[0m \u001b[0;34m\u001b[0m\u001b[0m\n\u001b[1;32m    447\u001b[0m     \u001b[0;31m# Create the parser.\u001b[0m\u001b[0;34m\u001b[0m\u001b[0;34m\u001b[0m\u001b[0;34m\u001b[0m\u001b[0m\n\u001b[0;32m--> 448\u001b[0;31m     \u001b[0mparser\u001b[0m \u001b[0;34m=\u001b[0m \u001b[0mTextFileReader\u001b[0m\u001b[0;34m(\u001b[0m\u001b[0mfp_or_buf\u001b[0m\u001b[0;34m,\u001b[0m \u001b[0;34m**\u001b[0m\u001b[0mkwds\u001b[0m\u001b[0;34m)\u001b[0m\u001b[0;34m\u001b[0m\u001b[0;34m\u001b[0m\u001b[0m\n\u001b[0m\u001b[1;32m    449\u001b[0m \u001b[0;34m\u001b[0m\u001b[0m\n\u001b[1;32m    450\u001b[0m     \u001b[0;32mif\u001b[0m \u001b[0mchunksize\u001b[0m \u001b[0;32mor\u001b[0m \u001b[0miterator\u001b[0m\u001b[0;34m:\u001b[0m\u001b[0;34m\u001b[0m\u001b[0;34m\u001b[0m\u001b[0m\n",
            "\u001b[0;32m/opt/anaconda3/lib/python3.7/site-packages/pandas/io/parsers.py\u001b[0m in \u001b[0;36m__init__\u001b[0;34m(self, f, engine, **kwds)\u001b[0m\n\u001b[1;32m    878\u001b[0m             \u001b[0mself\u001b[0m\u001b[0;34m.\u001b[0m\u001b[0moptions\u001b[0m\u001b[0;34m[\u001b[0m\u001b[0;34m\"has_index_names\"\u001b[0m\u001b[0;34m]\u001b[0m \u001b[0;34m=\u001b[0m \u001b[0mkwds\u001b[0m\u001b[0;34m[\u001b[0m\u001b[0;34m\"has_index_names\"\u001b[0m\u001b[0;34m]\u001b[0m\u001b[0;34m\u001b[0m\u001b[0;34m\u001b[0m\u001b[0m\n\u001b[1;32m    879\u001b[0m \u001b[0;34m\u001b[0m\u001b[0m\n\u001b[0;32m--> 880\u001b[0;31m         \u001b[0mself\u001b[0m\u001b[0;34m.\u001b[0m\u001b[0m_make_engine\u001b[0m\u001b[0;34m(\u001b[0m\u001b[0mself\u001b[0m\u001b[0;34m.\u001b[0m\u001b[0mengine\u001b[0m\u001b[0;34m)\u001b[0m\u001b[0;34m\u001b[0m\u001b[0;34m\u001b[0m\u001b[0m\n\u001b[0m\u001b[1;32m    881\u001b[0m \u001b[0;34m\u001b[0m\u001b[0m\n\u001b[1;32m    882\u001b[0m     \u001b[0;32mdef\u001b[0m \u001b[0mclose\u001b[0m\u001b[0;34m(\u001b[0m\u001b[0mself\u001b[0m\u001b[0;34m)\u001b[0m\u001b[0;34m:\u001b[0m\u001b[0;34m\u001b[0m\u001b[0;34m\u001b[0m\u001b[0m\n",
            "\u001b[0;32m/opt/anaconda3/lib/python3.7/site-packages/pandas/io/parsers.py\u001b[0m in \u001b[0;36m_make_engine\u001b[0;34m(self, engine)\u001b[0m\n\u001b[1;32m   1112\u001b[0m     \u001b[0;32mdef\u001b[0m \u001b[0m_make_engine\u001b[0m\u001b[0;34m(\u001b[0m\u001b[0mself\u001b[0m\u001b[0;34m,\u001b[0m \u001b[0mengine\u001b[0m\u001b[0;34m=\u001b[0m\u001b[0;34m\"c\"\u001b[0m\u001b[0;34m)\u001b[0m\u001b[0;34m:\u001b[0m\u001b[0;34m\u001b[0m\u001b[0;34m\u001b[0m\u001b[0m\n\u001b[1;32m   1113\u001b[0m         \u001b[0;32mif\u001b[0m \u001b[0mengine\u001b[0m \u001b[0;34m==\u001b[0m \u001b[0;34m\"c\"\u001b[0m\u001b[0;34m:\u001b[0m\u001b[0;34m\u001b[0m\u001b[0;34m\u001b[0m\u001b[0m\n\u001b[0;32m-> 1114\u001b[0;31m             \u001b[0mself\u001b[0m\u001b[0;34m.\u001b[0m\u001b[0m_engine\u001b[0m \u001b[0;34m=\u001b[0m \u001b[0mCParserWrapper\u001b[0m\u001b[0;34m(\u001b[0m\u001b[0mself\u001b[0m\u001b[0;34m.\u001b[0m\u001b[0mf\u001b[0m\u001b[0;34m,\u001b[0m \u001b[0;34m**\u001b[0m\u001b[0mself\u001b[0m\u001b[0;34m.\u001b[0m\u001b[0moptions\u001b[0m\u001b[0;34m)\u001b[0m\u001b[0;34m\u001b[0m\u001b[0;34m\u001b[0m\u001b[0m\n\u001b[0m\u001b[1;32m   1115\u001b[0m         \u001b[0;32melse\u001b[0m\u001b[0;34m:\u001b[0m\u001b[0;34m\u001b[0m\u001b[0;34m\u001b[0m\u001b[0m\n\u001b[1;32m   1116\u001b[0m             \u001b[0;32mif\u001b[0m \u001b[0mengine\u001b[0m \u001b[0;34m==\u001b[0m \u001b[0;34m\"python\"\u001b[0m\u001b[0;34m:\u001b[0m\u001b[0;34m\u001b[0m\u001b[0;34m\u001b[0m\u001b[0m\n",
            "\u001b[0;32m/opt/anaconda3/lib/python3.7/site-packages/pandas/io/parsers.py\u001b[0m in \u001b[0;36m__init__\u001b[0;34m(self, src, **kwds)\u001b[0m\n\u001b[1;32m   1889\u001b[0m         \u001b[0mkwds\u001b[0m\u001b[0;34m[\u001b[0m\u001b[0;34m\"usecols\"\u001b[0m\u001b[0;34m]\u001b[0m \u001b[0;34m=\u001b[0m \u001b[0mself\u001b[0m\u001b[0;34m.\u001b[0m\u001b[0musecols\u001b[0m\u001b[0;34m\u001b[0m\u001b[0;34m\u001b[0m\u001b[0m\n\u001b[1;32m   1890\u001b[0m \u001b[0;34m\u001b[0m\u001b[0m\n\u001b[0;32m-> 1891\u001b[0;31m         \u001b[0mself\u001b[0m\u001b[0;34m.\u001b[0m\u001b[0m_reader\u001b[0m \u001b[0;34m=\u001b[0m \u001b[0mparsers\u001b[0m\u001b[0;34m.\u001b[0m\u001b[0mTextReader\u001b[0m\u001b[0;34m(\u001b[0m\u001b[0msrc\u001b[0m\u001b[0;34m,\u001b[0m \u001b[0;34m**\u001b[0m\u001b[0mkwds\u001b[0m\u001b[0;34m)\u001b[0m\u001b[0;34m\u001b[0m\u001b[0;34m\u001b[0m\u001b[0m\n\u001b[0m\u001b[1;32m   1892\u001b[0m         \u001b[0mself\u001b[0m\u001b[0;34m.\u001b[0m\u001b[0munnamed_cols\u001b[0m \u001b[0;34m=\u001b[0m \u001b[0mself\u001b[0m\u001b[0;34m.\u001b[0m\u001b[0m_reader\u001b[0m\u001b[0;34m.\u001b[0m\u001b[0munnamed_cols\u001b[0m\u001b[0;34m\u001b[0m\u001b[0;34m\u001b[0m\u001b[0m\n\u001b[1;32m   1893\u001b[0m \u001b[0;34m\u001b[0m\u001b[0m\n",
            "\u001b[0;32mpandas/_libs/parsers.pyx\u001b[0m in \u001b[0;36mpandas._libs.parsers.TextReader.__cinit__\u001b[0;34m()\u001b[0m\n",
            "\u001b[0;32mpandas/_libs/parsers.pyx\u001b[0m in \u001b[0;36mpandas._libs.parsers.TextReader._setup_parser_source\u001b[0;34m()\u001b[0m\n",
            "\u001b[0;31mFileNotFoundError\u001b[0m: [Errno 2] File /Users/ramzi/Documents/Project_Folder/ufos.csv does not exist: '/Users/ramzi/Documents/Project_Folder/ufos.csv'"
          ]
        }
      ],
      "execution_count": 7,
      "metadata": {
        "collapsed": true,
        "jupyter": {
          "source_hidden": false,
          "outputs_hidden": false
        },
        "nteract": {
          "transient": {
            "deleting": false
          }
        },
        "execution": {
          "iopub.status.busy": "2020-08-04T04:14:13.351Z",
          "iopub.execute_input": "2020-08-04T04:14:13.358Z",
          "iopub.status.idle": "2020-08-04T04:14:13.375Z",
          "shell.execute_reply": "2020-08-04T04:14:13.642Z"
        }
      }
    },
    {
      "cell_type": "code",
      "source": [],
      "outputs": [
        {
          "output_type": "execute_result",
          "execution_count": 8,
          "data": {
            "text/plain": "                   business_id  \\\n0       --1UhMGODdWsrMastO9DZw   \n1       --6MefnULPED_I942VcFNA   \n2       --7zmmkVg-IMGaXbuVd0SQ   \n3       --8LPVSo5i0Oo61X01sV9A   \n4       --9QQLMTbFzLJ_oT-ON3Xw   \n...                        ...   \n175182  zzvlwkcNR1CCqOPXwuvz2A   \n175183  zzwaS0xn1MVEPEf0hNLjew   \n175184  zzwhN7x37nyjP0ZM8oiHmw   \n175185  zzwicjPC9g246MK2M1ZFBA   \n175186  zzzaIBwimxVej4tY6qFOUQ   \n\n                                                     date  \n0       2016-04-26 19:49:16, 2016-08-30 18:36:57, 2016...  \n1       2011-06-04 18:22:23, 2011-07-23 23:51:33, 2012...  \n2       2014-12-29 19:25:50, 2015-01-17 01:49:14, 2015...  \n3                                     2016-07-08 16:43:30  \n4       2010-06-26 17:39:07, 2010-08-01 20:06:21, 2010...  \n...                                                   ...  \n175182  2017-05-06 20:05:15, 2017-05-12 22:37:03, 2017...  \n175183  2010-02-16 02:09:56, 2010-07-05 05:40:48, 2010...  \n175184  2016-03-06 13:27:02, 2016-03-09 00:41:53, 2016...  \n175185  2012-09-22 00:26:15, 2012-09-23 20:12:00, 2012...  \n175186  2012-10-12 16:26:35, 2012-10-19 19:31:14, 2012...  \n\n[175187 rows x 2 columns]",
            "text/html": "<div>\n<style scoped>\n    .dataframe tbody tr th:only-of-type {\n        vertical-align: middle;\n    }\n\n    .dataframe tbody tr th {\n        vertical-align: top;\n    }\n\n    .dataframe thead th {\n        text-align: right;\n    }\n</style>\n<table border=\"1\" class=\"dataframe\">\n  <thead>\n    <tr style=\"text-align: right;\">\n      <th></th>\n      <th>business_id</th>\n      <th>date</th>\n    </tr>\n  </thead>\n  <tbody>\n    <tr>\n      <th>0</th>\n      <td>--1UhMGODdWsrMastO9DZw</td>\n      <td>2016-04-26 19:49:16, 2016-08-30 18:36:57, 2016...</td>\n    </tr>\n    <tr>\n      <th>1</th>\n      <td>--6MefnULPED_I942VcFNA</td>\n      <td>2011-06-04 18:22:23, 2011-07-23 23:51:33, 2012...</td>\n    </tr>\n    <tr>\n      <th>2</th>\n      <td>--7zmmkVg-IMGaXbuVd0SQ</td>\n      <td>2014-12-29 19:25:50, 2015-01-17 01:49:14, 2015...</td>\n    </tr>\n    <tr>\n      <th>3</th>\n      <td>--8LPVSo5i0Oo61X01sV9A</td>\n      <td>2016-07-08 16:43:30</td>\n    </tr>\n    <tr>\n      <th>4</th>\n      <td>--9QQLMTbFzLJ_oT-ON3Xw</td>\n      <td>2010-06-26 17:39:07, 2010-08-01 20:06:21, 2010...</td>\n    </tr>\n    <tr>\n      <th>...</th>\n      <td>...</td>\n      <td>...</td>\n    </tr>\n    <tr>\n      <th>175182</th>\n      <td>zzvlwkcNR1CCqOPXwuvz2A</td>\n      <td>2017-05-06 20:05:15, 2017-05-12 22:37:03, 2017...</td>\n    </tr>\n    <tr>\n      <th>175183</th>\n      <td>zzwaS0xn1MVEPEf0hNLjew</td>\n      <td>2010-02-16 02:09:56, 2010-07-05 05:40:48, 2010...</td>\n    </tr>\n    <tr>\n      <th>175184</th>\n      <td>zzwhN7x37nyjP0ZM8oiHmw</td>\n      <td>2016-03-06 13:27:02, 2016-03-09 00:41:53, 2016...</td>\n    </tr>\n    <tr>\n      <th>175185</th>\n      <td>zzwicjPC9g246MK2M1ZFBA</td>\n      <td>2012-09-22 00:26:15, 2012-09-23 20:12:00, 2012...</td>\n    </tr>\n    <tr>\n      <th>175186</th>\n      <td>zzzaIBwimxVej4tY6qFOUQ</td>\n      <td>2012-10-12 16:26:35, 2012-10-19 19:31:14, 2012...</td>\n    </tr>\n  </tbody>\n</table>\n<p>175187 rows × 2 columns</p>\n</div>"
          },
          "metadata": {}
        }
      ],
      "execution_count": 8,
      "metadata": {
        "collapsed": true,
        "jupyter": {
          "source_hidden": false,
          "outputs_hidden": false
        },
        "nteract": {
          "transient": {
            "deleting": false
          }
        },
        "execution": {
          "iopub.status.busy": "2020-08-04T04:14:13.384Z",
          "iopub.execute_input": "2020-08-04T04:14:13.390Z",
          "iopub.status.idle": "2020-08-04T04:14:13.409Z",
          "shell.execute_reply": "2020-08-04T04:14:13.646Z"
        }
      }
    },
    {
      "cell_type": "code",
      "source": [
        "business.dtypes"
      ],
      "outputs": [
        {
          "output_type": "error",
          "ename": "NameError",
          "evalue": "name 'business' is not defined",
          "traceback": [
            "\u001b[0;31m---------------------------------------------------------------------------\u001b[0m",
            "\u001b[0;31mNameError\u001b[0m                                 Traceback (most recent call last)",
            "\u001b[0;32m<ipython-input-9-eb21da0fadae>\u001b[0m in \u001b[0;36m<module>\u001b[0;34m\u001b[0m\n\u001b[0;32m----> 1\u001b[0;31m \u001b[0mbusiness\u001b[0m\u001b[0;34m.\u001b[0m\u001b[0mdtypes\u001b[0m\u001b[0;34m\u001b[0m\u001b[0;34m\u001b[0m\u001b[0m\n\u001b[0m",
            "\u001b[0;31mNameError\u001b[0m: name 'business' is not defined"
          ]
        }
      ],
      "execution_count": 9,
      "metadata": {
        "collapsed": true,
        "jupyter": {
          "source_hidden": false,
          "outputs_hidden": false
        },
        "nteract": {
          "transient": {
            "deleting": false
          }
        },
        "execution": {
          "iopub.status.busy": "2020-08-04T04:14:13.417Z",
          "iopub.execute_input": "2020-08-04T04:14:13.423Z",
          "iopub.status.idle": "2020-08-04T04:14:13.435Z",
          "shell.execute_reply": "2020-08-04T04:14:13.650Z"
        }
      }
    },
    {
      "cell_type": "code",
      "source": [
        "checkin.head()"
      ],
      "outputs": [
        {
          "output_type": "execute_result",
          "execution_count": 10,
          "data": {
            "text/plain": "              business_id                                               date\n0  --1UhMGODdWsrMastO9DZw  2016-04-26 19:49:16, 2016-08-30 18:36:57, 2016...\n1  --6MefnULPED_I942VcFNA  2011-06-04 18:22:23, 2011-07-23 23:51:33, 2012...\n2  --7zmmkVg-IMGaXbuVd0SQ  2014-12-29 19:25:50, 2015-01-17 01:49:14, 2015...\n3  --8LPVSo5i0Oo61X01sV9A                                2016-07-08 16:43:30\n4  --9QQLMTbFzLJ_oT-ON3Xw  2010-06-26 17:39:07, 2010-08-01 20:06:21, 2010...",
            "text/html": "<div>\n<style scoped>\n    .dataframe tbody tr th:only-of-type {\n        vertical-align: middle;\n    }\n\n    .dataframe tbody tr th {\n        vertical-align: top;\n    }\n\n    .dataframe thead th {\n        text-align: right;\n    }\n</style>\n<table border=\"1\" class=\"dataframe\">\n  <thead>\n    <tr style=\"text-align: right;\">\n      <th></th>\n      <th>business_id</th>\n      <th>date</th>\n    </tr>\n  </thead>\n  <tbody>\n    <tr>\n      <th>0</th>\n      <td>--1UhMGODdWsrMastO9DZw</td>\n      <td>2016-04-26 19:49:16, 2016-08-30 18:36:57, 2016...</td>\n    </tr>\n    <tr>\n      <th>1</th>\n      <td>--6MefnULPED_I942VcFNA</td>\n      <td>2011-06-04 18:22:23, 2011-07-23 23:51:33, 2012...</td>\n    </tr>\n    <tr>\n      <th>2</th>\n      <td>--7zmmkVg-IMGaXbuVd0SQ</td>\n      <td>2014-12-29 19:25:50, 2015-01-17 01:49:14, 2015...</td>\n    </tr>\n    <tr>\n      <th>3</th>\n      <td>--8LPVSo5i0Oo61X01sV9A</td>\n      <td>2016-07-08 16:43:30</td>\n    </tr>\n    <tr>\n      <th>4</th>\n      <td>--9QQLMTbFzLJ_oT-ON3Xw</td>\n      <td>2010-06-26 17:39:07, 2010-08-01 20:06:21, 2010...</td>\n    </tr>\n  </tbody>\n</table>\n</div>"
          },
          "metadata": {}
        }
      ],
      "execution_count": 10,
      "metadata": {
        "collapsed": true,
        "jupyter": {
          "source_hidden": false,
          "outputs_hidden": false
        },
        "nteract": {
          "transient": {
            "deleting": false
          }
        },
        "execution": {
          "iopub.status.busy": "2020-08-04T04:14:13.445Z",
          "iopub.execute_input": "2020-08-04T04:14:13.450Z",
          "iopub.status.idle": "2020-08-04T04:14:13.462Z",
          "shell.execute_reply": "2020-08-04T04:14:13.653Z"
        }
      }
    },
    {
      "cell_type": "code",
      "source": [
        "review.head()"
      ],
      "outputs": [
        {
          "output_type": "error",
          "ename": "NameError",
          "evalue": "name 'review' is not defined",
          "traceback": [
            "\u001b[0;31m---------------------------------------------------------------------------\u001b[0m",
            "\u001b[0;31mNameError\u001b[0m                                 Traceback (most recent call last)",
            "\u001b[0;32m<ipython-input-11-fe0d75d8fc09>\u001b[0m in \u001b[0;36m<module>\u001b[0;34m\u001b[0m\n\u001b[0;32m----> 1\u001b[0;31m \u001b[0mreview\u001b[0m\u001b[0;34m.\u001b[0m\u001b[0mhead\u001b[0m\u001b[0;34m(\u001b[0m\u001b[0;34m)\u001b[0m\u001b[0;34m\u001b[0m\u001b[0;34m\u001b[0m\u001b[0m\n\u001b[0m",
            "\u001b[0;31mNameError\u001b[0m: name 'review' is not defined"
          ]
        }
      ],
      "execution_count": 11,
      "metadata": {
        "collapsed": true,
        "jupyter": {
          "source_hidden": false,
          "outputs_hidden": false
        },
        "nteract": {
          "transient": {
            "deleting": false
          }
        },
        "execution": {
          "iopub.status.busy": "2020-08-04T04:14:13.469Z",
          "iopub.execute_input": "2020-08-04T04:14:13.474Z",
          "iopub.status.idle": "2020-08-04T04:14:13.489Z",
          "shell.execute_reply": "2020-08-04T04:14:13.657Z"
        }
      }
    },
    {
      "cell_type": "code",
      "source": [
        "tip.head()"
      ],
      "outputs": [
        {
          "output_type": "execute_result",
          "execution_count": 12,
          "data": {
            "text/plain": "                  user_id             business_id  \\\n0  hf27xTME3EiCp6NL6VtWZQ  UYX5zL_Xj9WEc_Wp-FrqHw   \n1  uEvusDwoSymbJJ0auR3muQ  Ch3HkwQYv1YKw_FO06vBWA   \n2  AY-laIws3S7YXNl_f_D6rQ  rDoT-MgxGRiYqCmi0bG10g   \n3  Ue_7yUlkEbX4AhnYdUfL7g  OHXnDV01gLokiX1ELaQufA   \n4  LltbT_fUMqZ-ZJP-vJ84IQ  GMrwDXRlAZU2zj5nH6l4vQ   \n\n                                                text                date  \\\n0                               Here for a quick mtg 2013-11-26 18:20:08   \n1                      Cucumber strawberry refresher 2014-06-15 22:26:45   \n2                   Very nice good service good food 2016-07-18 22:03:42   \n3         It's a small place. The staff is friendly. 2014-06-06 01:10:34   \n4  8 sandwiches, $24 total...what a bargain!!! An... 2011-04-08 18:12:01   \n\n   compliment_count  \n0                 0  \n1                 0  \n2                 0  \n3                 0  \n4                 0  ",
            "text/html": "<div>\n<style scoped>\n    .dataframe tbody tr th:only-of-type {\n        vertical-align: middle;\n    }\n\n    .dataframe tbody tr th {\n        vertical-align: top;\n    }\n\n    .dataframe thead th {\n        text-align: right;\n    }\n</style>\n<table border=\"1\" class=\"dataframe\">\n  <thead>\n    <tr style=\"text-align: right;\">\n      <th></th>\n      <th>user_id</th>\n      <th>business_id</th>\n      <th>text</th>\n      <th>date</th>\n      <th>compliment_count</th>\n    </tr>\n  </thead>\n  <tbody>\n    <tr>\n      <th>0</th>\n      <td>hf27xTME3EiCp6NL6VtWZQ</td>\n      <td>UYX5zL_Xj9WEc_Wp-FrqHw</td>\n      <td>Here for a quick mtg</td>\n      <td>2013-11-26 18:20:08</td>\n      <td>0</td>\n    </tr>\n    <tr>\n      <th>1</th>\n      <td>uEvusDwoSymbJJ0auR3muQ</td>\n      <td>Ch3HkwQYv1YKw_FO06vBWA</td>\n      <td>Cucumber strawberry refresher</td>\n      <td>2014-06-15 22:26:45</td>\n      <td>0</td>\n    </tr>\n    <tr>\n      <th>2</th>\n      <td>AY-laIws3S7YXNl_f_D6rQ</td>\n      <td>rDoT-MgxGRiYqCmi0bG10g</td>\n      <td>Very nice good service good food</td>\n      <td>2016-07-18 22:03:42</td>\n      <td>0</td>\n    </tr>\n    <tr>\n      <th>3</th>\n      <td>Ue_7yUlkEbX4AhnYdUfL7g</td>\n      <td>OHXnDV01gLokiX1ELaQufA</td>\n      <td>It's a small place. The staff is friendly.</td>\n      <td>2014-06-06 01:10:34</td>\n      <td>0</td>\n    </tr>\n    <tr>\n      <th>4</th>\n      <td>LltbT_fUMqZ-ZJP-vJ84IQ</td>\n      <td>GMrwDXRlAZU2zj5nH6l4vQ</td>\n      <td>8 sandwiches, $24 total...what a bargain!!! An...</td>\n      <td>2011-04-08 18:12:01</td>\n      <td>0</td>\n    </tr>\n  </tbody>\n</table>\n</div>"
          },
          "metadata": {}
        }
      ],
      "execution_count": 12,
      "metadata": {
        "collapsed": true,
        "jupyter": {
          "source_hidden": false,
          "outputs_hidden": false
        },
        "nteract": {
          "transient": {
            "deleting": false
          }
        },
        "execution": {
          "iopub.status.busy": "2020-08-04T04:14:13.496Z",
          "iopub.execute_input": "2020-08-04T04:14:13.502Z",
          "iopub.status.idle": "2020-08-04T04:14:13.516Z",
          "shell.execute_reply": "2020-08-04T04:14:13.660Z"
        }
      }
    },
    {
      "cell_type": "code",
      "source": [
        "user.head()"
      ],
      "outputs": [
        {
          "output_type": "error",
          "ename": "NameError",
          "evalue": "name 'user' is not defined",
          "traceback": [
            "\u001b[0;31m---------------------------------------------------------------------------\u001b[0m",
            "\u001b[0;31mNameError\u001b[0m                                 Traceback (most recent call last)",
            "\u001b[0;32m<ipython-input-13-3493613892ff>\u001b[0m in \u001b[0;36m<module>\u001b[0;34m\u001b[0m\n\u001b[0;32m----> 1\u001b[0;31m \u001b[0muser\u001b[0m\u001b[0;34m.\u001b[0m\u001b[0mhead\u001b[0m\u001b[0;34m(\u001b[0m\u001b[0;34m)\u001b[0m\u001b[0;34m\u001b[0m\u001b[0;34m\u001b[0m\u001b[0m\n\u001b[0m",
            "\u001b[0;31mNameError\u001b[0m: name 'user' is not defined"
          ]
        }
      ],
      "execution_count": 13,
      "metadata": {
        "collapsed": true,
        "jupyter": {
          "source_hidden": false,
          "outputs_hidden": false
        },
        "nteract": {
          "transient": {
            "deleting": false
          }
        },
        "execution": {
          "iopub.status.busy": "2020-08-04T04:14:13.526Z",
          "iopub.execute_input": "2020-08-04T04:14:13.531Z",
          "iopub.status.idle": "2020-08-04T04:14:13.543Z",
          "shell.execute_reply": "2020-08-04T04:14:13.663Z"
        }
      }
    },
    {
      "cell_type": "code",
      "source": [
        "list(user.columns.values)"
      ],
      "outputs": [
        {
          "output_type": "error",
          "ename": "NameError",
          "evalue": "name 'user' is not defined",
          "traceback": [
            "\u001b[0;31m---------------------------------------------------------------------------\u001b[0m",
            "\u001b[0;31mNameError\u001b[0m                                 Traceback (most recent call last)",
            "\u001b[0;32m<ipython-input-14-a914a4ef02c2>\u001b[0m in \u001b[0;36m<module>\u001b[0;34m\u001b[0m\n\u001b[0;32m----> 1\u001b[0;31m \u001b[0mlist\u001b[0m\u001b[0;34m(\u001b[0m\u001b[0muser\u001b[0m\u001b[0;34m.\u001b[0m\u001b[0mcolumns\u001b[0m\u001b[0;34m.\u001b[0m\u001b[0mvalues\u001b[0m\u001b[0;34m)\u001b[0m\u001b[0;34m\u001b[0m\u001b[0;34m\u001b[0m\u001b[0m\n\u001b[0m",
            "\u001b[0;31mNameError\u001b[0m: name 'user' is not defined"
          ]
        }
      ],
      "execution_count": 14,
      "metadata": {
        "collapsed": true,
        "jupyter": {
          "source_hidden": false,
          "outputs_hidden": false
        },
        "nteract": {
          "transient": {
            "deleting": false
          }
        },
        "execution": {
          "iopub.status.busy": "2020-08-04T04:14:13.551Z",
          "iopub.execute_input": "2020-08-04T04:14:13.558Z",
          "iopub.status.idle": "2020-08-04T04:14:13.572Z",
          "shell.execute_reply": "2020-08-04T04:14:13.665Z"
        }
      }
    },
    {
      "cell_type": "code",
      "source": [
        "ufos.head()"
      ],
      "outputs": [
        {
          "output_type": "error",
          "ename": "NameError",
          "evalue": "name 'ufos' is not defined",
          "traceback": [
            "\u001b[0;31m---------------------------------------------------------------------------\u001b[0m",
            "\u001b[0;31mNameError\u001b[0m                                 Traceback (most recent call last)",
            "\u001b[0;32m<ipython-input-15-b6ebb813fefa>\u001b[0m in \u001b[0;36m<module>\u001b[0;34m\u001b[0m\n\u001b[0;32m----> 1\u001b[0;31m \u001b[0mufos\u001b[0m\u001b[0;34m.\u001b[0m\u001b[0mhead\u001b[0m\u001b[0;34m(\u001b[0m\u001b[0;34m)\u001b[0m\u001b[0;34m\u001b[0m\u001b[0;34m\u001b[0m\u001b[0m\n\u001b[0m",
            "\u001b[0;31mNameError\u001b[0m: name 'ufos' is not defined"
          ]
        }
      ],
      "execution_count": 15,
      "metadata": {
        "collapsed": true,
        "jupyter": {
          "source_hidden": false,
          "outputs_hidden": false
        },
        "nteract": {
          "transient": {
            "deleting": false
          }
        },
        "execution": {
          "iopub.status.busy": "2020-08-04T04:14:13.581Z",
          "iopub.execute_input": "2020-08-04T04:14:13.590Z",
          "iopub.status.idle": "2020-08-04T04:14:13.605Z",
          "shell.execute_reply": "2020-08-04T04:14:13.669Z"
        }
      }
    },
    {
      "cell_type": "code",
      "source": [],
      "outputs": [],
      "execution_count": null,
      "metadata": {
        "collapsed": true,
        "jupyter": {
          "source_hidden": false,
          "outputs_hidden": false
        },
        "nteract": {
          "transient": {
            "deleting": false
          }
        }
      }
    }
  ],
  "metadata": {
    "kernel_info": {
      "name": "python3"
    },
    "language_info": {
      "name": "python",
      "version": "3.7.6",
      "mimetype": "text/x-python",
      "codemirror_mode": {
        "name": "ipython",
        "version": 3
      },
      "pygments_lexer": "ipython3",
      "nbconvert_exporter": "python",
      "file_extension": ".py"
    },
    "kernelspec": {
      "argv": [
        "/opt/anaconda3/bin/python",
        "-m",
        "ipykernel_launcher",
        "-f",
        "{connection_file}"
      ],
      "display_name": "Python 3",
      "language": "python",
      "name": "python3"
    },
    "nteract": {
      "version": "0.24.1"
    }
  },
  "nbformat": 4,
  "nbformat_minor": 0
}